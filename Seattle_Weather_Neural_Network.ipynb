{
 "cells": [
  {
   "cell_type": "markdown",
   "id": "912b892d-a49f-4f10-8a82-54c20d361046",
   "metadata": {},
   "source": [
    "# Weather Classification Using Deep Learning\n",
    "\n",
    "This notebook demonstrates how to build a neural network to predict the weather category based on features like precipitation, temperature, and wind speed based on the seattle-weather dataset.\n",
    "\n",
    "---"
   ]
  },
  {
   "cell_type": "markdown",
   "id": "f9210d5e-5992-4391-87c6-94456db86939",
   "metadata": {},
   "source": [
    "## Importing Libraries and loading the dataset\n",
    "---"
   ]
  },
  {
   "cell_type": "code",
   "execution_count": 46,
   "id": "32d3ce03-c338-4b43-aca6-f714b20c3b52",
   "metadata": {},
   "outputs": [],
   "source": [
    "# Import libraries\n",
    "import pandas as pd\n",
    "import numpy as np\n",
    "from sklearn.model_selection import train_test_split\n",
    "from sklearn.preprocessing import LabelEncoder, MinMaxScaler\n",
    "from tensorflow.keras.models import Sequential\n",
    "from tensorflow.keras.layers import Dense, Dropout, Input\n",
    "from tensorflow.keras.utils import to_categorical\n",
    "import matplotlib.pyplot as plt\n",
    "\n",
    "# Load the dataset\n",
    "file_path = \"seattle-weather.csv\" \n",
    "data = pd.read_csv(file_path)"
   ]
  },
  {
   "cell_type": "markdown",
   "id": "27b9e259-d6c1-4a72-9133-4588203cfb6a",
   "metadata": {},
   "source": [
    "## Step 1: Encode the Target Variable\n",
    "We encode the categorical `weather` column into numerical values using `LabelEncoder`. This transforms normal string labels (e.g., \"rain\", \"drizzle\") into integer labels such as 0, 1, 2.\n",
    "\n",
    "---"
   ]
  },
  {
   "cell_type": "code",
   "execution_count": 47,
   "id": "16c7dd24-5df4-4c4b-804e-cd25e109cc95",
   "metadata": {},
   "outputs": [
    {
     "data": {
      "text/html": [
       "<div>\n",
       "<style scoped>\n",
       "    .dataframe tbody tr th:only-of-type {\n",
       "        vertical-align: middle;\n",
       "    }\n",
       "\n",
       "    .dataframe tbody tr th {\n",
       "        vertical-align: top;\n",
       "    }\n",
       "\n",
       "    .dataframe thead th {\n",
       "        text-align: right;\n",
       "    }\n",
       "</style>\n",
       "<table border=\"1\" class=\"dataframe\">\n",
       "  <thead>\n",
       "    <tr style=\"text-align: right;\">\n",
       "      <th></th>\n",
       "      <th>date</th>\n",
       "      <th>precipitation</th>\n",
       "      <th>temp_max</th>\n",
       "      <th>temp_min</th>\n",
       "      <th>wind</th>\n",
       "      <th>weather</th>\n",
       "      <th>weather_encoded</th>\n",
       "    </tr>\n",
       "  </thead>\n",
       "  <tbody>\n",
       "    <tr>\n",
       "      <th>0</th>\n",
       "      <td>2012-01-01</td>\n",
       "      <td>0.0</td>\n",
       "      <td>12.8</td>\n",
       "      <td>5.0</td>\n",
       "      <td>4.7</td>\n",
       "      <td>drizzle</td>\n",
       "      <td>0</td>\n",
       "    </tr>\n",
       "    <tr>\n",
       "      <th>1</th>\n",
       "      <td>2012-01-02</td>\n",
       "      <td>10.9</td>\n",
       "      <td>10.6</td>\n",
       "      <td>2.8</td>\n",
       "      <td>4.5</td>\n",
       "      <td>rain</td>\n",
       "      <td>2</td>\n",
       "    </tr>\n",
       "    <tr>\n",
       "      <th>2</th>\n",
       "      <td>2012-01-03</td>\n",
       "      <td>0.8</td>\n",
       "      <td>11.7</td>\n",
       "      <td>7.2</td>\n",
       "      <td>2.3</td>\n",
       "      <td>rain</td>\n",
       "      <td>2</td>\n",
       "    </tr>\n",
       "    <tr>\n",
       "      <th>3</th>\n",
       "      <td>2012-01-04</td>\n",
       "      <td>20.3</td>\n",
       "      <td>12.2</td>\n",
       "      <td>5.6</td>\n",
       "      <td>4.7</td>\n",
       "      <td>rain</td>\n",
       "      <td>2</td>\n",
       "    </tr>\n",
       "    <tr>\n",
       "      <th>4</th>\n",
       "      <td>2012-01-05</td>\n",
       "      <td>1.3</td>\n",
       "      <td>8.9</td>\n",
       "      <td>2.8</td>\n",
       "      <td>6.1</td>\n",
       "      <td>rain</td>\n",
       "      <td>2</td>\n",
       "    </tr>\n",
       "    <tr>\n",
       "      <th>5</th>\n",
       "      <td>2012-01-06</td>\n",
       "      <td>2.5</td>\n",
       "      <td>4.4</td>\n",
       "      <td>2.2</td>\n",
       "      <td>2.2</td>\n",
       "      <td>rain</td>\n",
       "      <td>2</td>\n",
       "    </tr>\n",
       "    <tr>\n",
       "      <th>6</th>\n",
       "      <td>2012-01-07</td>\n",
       "      <td>0.0</td>\n",
       "      <td>7.2</td>\n",
       "      <td>2.8</td>\n",
       "      <td>2.3</td>\n",
       "      <td>rain</td>\n",
       "      <td>2</td>\n",
       "    </tr>\n",
       "    <tr>\n",
       "      <th>7</th>\n",
       "      <td>2012-01-08</td>\n",
       "      <td>0.0</td>\n",
       "      <td>10.0</td>\n",
       "      <td>2.8</td>\n",
       "      <td>2.0</td>\n",
       "      <td>sun</td>\n",
       "      <td>4</td>\n",
       "    </tr>\n",
       "    <tr>\n",
       "      <th>8</th>\n",
       "      <td>2012-01-09</td>\n",
       "      <td>4.3</td>\n",
       "      <td>9.4</td>\n",
       "      <td>5.0</td>\n",
       "      <td>3.4</td>\n",
       "      <td>rain</td>\n",
       "      <td>2</td>\n",
       "    </tr>\n",
       "    <tr>\n",
       "      <th>9</th>\n",
       "      <td>2012-01-10</td>\n",
       "      <td>1.0</td>\n",
       "      <td>6.1</td>\n",
       "      <td>0.6</td>\n",
       "      <td>3.4</td>\n",
       "      <td>rain</td>\n",
       "      <td>2</td>\n",
       "    </tr>\n",
       "    <tr>\n",
       "      <th>10</th>\n",
       "      <td>2012-01-11</td>\n",
       "      <td>0.0</td>\n",
       "      <td>6.1</td>\n",
       "      <td>-1.1</td>\n",
       "      <td>5.1</td>\n",
       "      <td>sun</td>\n",
       "      <td>4</td>\n",
       "    </tr>\n",
       "    <tr>\n",
       "      <th>11</th>\n",
       "      <td>2012-01-12</td>\n",
       "      <td>0.0</td>\n",
       "      <td>6.1</td>\n",
       "      <td>-1.7</td>\n",
       "      <td>1.9</td>\n",
       "      <td>sun</td>\n",
       "      <td>4</td>\n",
       "    </tr>\n",
       "    <tr>\n",
       "      <th>12</th>\n",
       "      <td>2012-01-13</td>\n",
       "      <td>0.0</td>\n",
       "      <td>5.0</td>\n",
       "      <td>-2.8</td>\n",
       "      <td>1.3</td>\n",
       "      <td>sun</td>\n",
       "      <td>4</td>\n",
       "    </tr>\n",
       "    <tr>\n",
       "      <th>13</th>\n",
       "      <td>2012-01-14</td>\n",
       "      <td>4.1</td>\n",
       "      <td>4.4</td>\n",
       "      <td>0.6</td>\n",
       "      <td>5.3</td>\n",
       "      <td>snow</td>\n",
       "      <td>3</td>\n",
       "    </tr>\n",
       "    <tr>\n",
       "      <th>14</th>\n",
       "      <td>2012-01-15</td>\n",
       "      <td>5.3</td>\n",
       "      <td>1.1</td>\n",
       "      <td>-3.3</td>\n",
       "      <td>3.2</td>\n",
       "      <td>snow</td>\n",
       "      <td>3</td>\n",
       "    </tr>\n",
       "    <tr>\n",
       "      <th>15</th>\n",
       "      <td>2012-01-16</td>\n",
       "      <td>2.5</td>\n",
       "      <td>1.7</td>\n",
       "      <td>-2.8</td>\n",
       "      <td>5.0</td>\n",
       "      <td>snow</td>\n",
       "      <td>3</td>\n",
       "    </tr>\n",
       "    <tr>\n",
       "      <th>16</th>\n",
       "      <td>2012-01-17</td>\n",
       "      <td>8.1</td>\n",
       "      <td>3.3</td>\n",
       "      <td>0.0</td>\n",
       "      <td>5.6</td>\n",
       "      <td>snow</td>\n",
       "      <td>3</td>\n",
       "    </tr>\n",
       "    <tr>\n",
       "      <th>17</th>\n",
       "      <td>2012-01-18</td>\n",
       "      <td>19.8</td>\n",
       "      <td>0.0</td>\n",
       "      <td>-2.8</td>\n",
       "      <td>5.0</td>\n",
       "      <td>snow</td>\n",
       "      <td>3</td>\n",
       "    </tr>\n",
       "    <tr>\n",
       "      <th>18</th>\n",
       "      <td>2012-01-19</td>\n",
       "      <td>15.2</td>\n",
       "      <td>-1.1</td>\n",
       "      <td>-2.8</td>\n",
       "      <td>1.6</td>\n",
       "      <td>snow</td>\n",
       "      <td>3</td>\n",
       "    </tr>\n",
       "    <tr>\n",
       "      <th>19</th>\n",
       "      <td>2012-01-20</td>\n",
       "      <td>13.5</td>\n",
       "      <td>7.2</td>\n",
       "      <td>-1.1</td>\n",
       "      <td>2.3</td>\n",
       "      <td>snow</td>\n",
       "      <td>3</td>\n",
       "    </tr>\n",
       "  </tbody>\n",
       "</table>\n",
       "</div>"
      ],
      "text/plain": [
       "          date  precipitation  temp_max  temp_min  wind  weather  \\\n",
       "0   2012-01-01            0.0      12.8       5.0   4.7  drizzle   \n",
       "1   2012-01-02           10.9      10.6       2.8   4.5     rain   \n",
       "2   2012-01-03            0.8      11.7       7.2   2.3     rain   \n",
       "3   2012-01-04           20.3      12.2       5.6   4.7     rain   \n",
       "4   2012-01-05            1.3       8.9       2.8   6.1     rain   \n",
       "5   2012-01-06            2.5       4.4       2.2   2.2     rain   \n",
       "6   2012-01-07            0.0       7.2       2.8   2.3     rain   \n",
       "7   2012-01-08            0.0      10.0       2.8   2.0      sun   \n",
       "8   2012-01-09            4.3       9.4       5.0   3.4     rain   \n",
       "9   2012-01-10            1.0       6.1       0.6   3.4     rain   \n",
       "10  2012-01-11            0.0       6.1      -1.1   5.1      sun   \n",
       "11  2012-01-12            0.0       6.1      -1.7   1.9      sun   \n",
       "12  2012-01-13            0.0       5.0      -2.8   1.3      sun   \n",
       "13  2012-01-14            4.1       4.4       0.6   5.3     snow   \n",
       "14  2012-01-15            5.3       1.1      -3.3   3.2     snow   \n",
       "15  2012-01-16            2.5       1.7      -2.8   5.0     snow   \n",
       "16  2012-01-17            8.1       3.3       0.0   5.6     snow   \n",
       "17  2012-01-18           19.8       0.0      -2.8   5.0     snow   \n",
       "18  2012-01-19           15.2      -1.1      -2.8   1.6     snow   \n",
       "19  2012-01-20           13.5       7.2      -1.1   2.3     snow   \n",
       "\n",
       "    weather_encoded  \n",
       "0                 0  \n",
       "1                 2  \n",
       "2                 2  \n",
       "3                 2  \n",
       "4                 2  \n",
       "5                 2  \n",
       "6                 2  \n",
       "7                 4  \n",
       "8                 2  \n",
       "9                 2  \n",
       "10                4  \n",
       "11                4  \n",
       "12                4  \n",
       "13                3  \n",
       "14                3  \n",
       "15                3  \n",
       "16                3  \n",
       "17                3  \n",
       "18                3  \n",
       "19                3  "
      ]
     },
     "execution_count": 47,
     "metadata": {},
     "output_type": "execute_result"
    }
   ],
   "source": [
    "# Encode the weather column\n",
    "label_encoder = LabelEncoder()\n",
    "data['weather_encoded'] = label_encoder.fit_transform(data['weather'])\n",
    "data.head(20)"
   ]
  },
  {
   "cell_type": "markdown",
   "id": "503747cb-99fe-4ca9-aa76-3852e91d045a",
   "metadata": {},
   "source": [
    "## Step 2: Select Our Features and Target Variable\n",
    "We select the following features for training:\n",
    "- `precipitation`\n",
    "- `temp_max`\n",
    "- `temp_min`\n",
    "- `wind`\n",
    "\n",
    "The target variable is the  label-encoded `weather` column.\n",
    "\n",
    "---"
   ]
  },
  {
   "cell_type": "code",
   "execution_count": 36,
   "id": "285ea2a8-151a-4655-a90f-43cbbbe091ab",
   "metadata": {},
   "outputs": [],
   "source": [
    "# Select all other columns as features and weather column as target Y\n",
    "features = ['precipitation', 'temp_max', 'temp_min', 'wind']\n",
    "X = data[features]\n",
    "y = data['weather_encoded']"
   ]
  },
  {
   "cell_type": "markdown",
   "id": "41b40eb2-8345-4df6-a723-b348707abb9e",
   "metadata": {},
   "source": [
    "## Step 3: Normalize the Features\n",
    "To ensure that all input features contribute equally to the neural network, we ned to normalize the data, this can be done by using `MinMaxScaler`. This scales the features to a range of 0 to 1."
   ]
  },
  {
   "cell_type": "code",
   "execution_count": 37,
   "id": "bf4fc0d9-0057-4cba-9b5d-9adca8e4c0e4",
   "metadata": {},
   "outputs": [],
   "source": [
    "# Normalize the features\n",
    "scaler = MinMaxScaler()\n",
    "X_scaled = scaler.fit_transform(X)"
   ]
  },
  {
   "cell_type": "markdown",
   "id": "77e325c3-5a91-4a95-9502-09dfb9432330",
   "metadata": {},
   "source": [
    "## Step 4: Convert Weather to One-Hot Encoding\n",
    "Since this is a multiclass classification problem, we need to convert the target variable into a one-hot encoded format to ensure the model predicts probabilities.\n",
    "\n",
    "---"
   ]
  },
  {
   "cell_type": "code",
   "execution_count": 38,
   "id": "eefebc98-a52e-4515-bb02-fc33785f3c44",
   "metadata": {},
   "outputs": [],
   "source": [
    "# Convert target column to one-hot encoding\n",
    "y_categorical = to_categorical(y)"
   ]
  },
  {
   "cell_type": "markdown",
   "id": "bc0cf42b-e402-437a-838a-11512b29cb38",
   "metadata": {},
   "source": [
    "## Step 5: Split the dataset\n",
    "Split 20% of data to use for the test set to evaluate the model's performance and 80% of the data will be used for the model to train on.\n",
    "\n",
    "---"
   ]
  },
  {
   "cell_type": "code",
   "execution_count": 39,
   "id": "68f90664-6780-43ab-95ff-5093a90f2b46",
   "metadata": {},
   "outputs": [],
   "source": [
    "# Split 20% of the data for testing and 80% for training\n",
    "X_train, X_test, y_train, y_test = train_test_split(X_scaled, y_categorical, test_size=0.2, random_state=2)"
   ]
  },
  {
   "cell_type": "markdown",
   "id": "9a2ab6fc-ddb3-4c7f-abbb-afa678c921d2",
   "metadata": {},
   "source": [
    "## Step 6: Building the Neural Network Model\n",
    "We construct a simple feed-forward neural network with the following:\n",
    "- Input Layer: Matches the number of features from train set.\n",
    "- Hidden Layers: Two dense layers with 64 and 32 neurons, respectively, both with ReLU activation.\n",
    "- Dropout Layers: 2 dropout layers Added to reduce overfitting.\n",
    "- Output Layer: Softmax activation to predict probabilities for each weather category.\n",
    "\n",
    "---"
   ]
  },
  {
   "cell_type": "code",
   "execution_count": 40,
   "id": "7625b148-b085-4298-a4a7-7206051fd67c",
   "metadata": {},
   "outputs": [],
   "source": [
    "# Build the Model\n",
    "model = Sequential([\n",
    "    Input(shape=(X_train.shape[1],)), # Input layer\n",
    "    Dense(64, activation='relu'), # 1st hiden layer\n",
    "    Dropout(0.3), # drop 30% of neurons in each iteration to reduce overfitting\n",
    "    Dense(32, activation='relu'), # 2nd hidden layer\n",
    "    Dropout(0.3), # to reduce overfitting again\n",
    "    Dense(y_train.shape[1], activation='softmax')  # Softmax at output layer for multiclass classification\n",
    "])"
   ]
  },
  {
   "cell_type": "markdown",
   "id": "61a20093-a7de-4a17-9e7c-24adbb2b49db",
   "metadata": {},
   "source": [
    "## Step 7: Compile the Model\n",
    "We compile the model with the following settings:\n",
    "- **Optimizer**: Adam (adaptive learning rate).\n",
    "- **Loss Function**: Categorical Crossentropy (standard for multiclass classification).\n",
    "- **Metrics**: Accuracy to monitor performance.\n",
    "\n",
    "---"
   ]
  },
  {
   "cell_type": "code",
   "execution_count": 41,
   "id": "5aa3ef8d-f178-44fa-82a3-24006957e74b",
   "metadata": {},
   "outputs": [],
   "source": [
    "# Compile\n",
    "model.compile(optimizer='adam', loss='categorical_crossentropy', metrics=['accuracy'])"
   ]
  },
  {
   "cell_type": "markdown",
   "id": "1862c7b1-b48f-47af-be87-ba26f5e0e810",
   "metadata": {},
   "source": [
    "## Step 8: Train the Model\n",
    "The model is trained for 50 epochs with a batch size of 16. We also validate the model on the test set during training.\n",
    "\n",
    "---"
   ]
  },
  {
   "cell_type": "code",
   "execution_count": 42,
   "id": "46d735d9-208b-4900-82de-3a621caf70cd",
   "metadata": {},
   "outputs": [
    {
     "name": "stdout",
     "output_type": "stream",
     "text": [
      "Epoch 1/50\n",
      "\u001b[1m73/73\u001b[0m \u001b[32m━━━━━━━━━━━━━━━━━━━━\u001b[0m\u001b[37m\u001b[0m \u001b[1m1s\u001b[0m 4ms/step - accuracy: 0.4236 - loss: 1.4198 - val_accuracy: 0.7133 - val_loss: 1.0390\n",
      "Epoch 2/50\n",
      "\u001b[1m73/73\u001b[0m \u001b[32m━━━━━━━━━━━━━━━━━━━━\u001b[0m\u001b[37m\u001b[0m \u001b[1m0s\u001b[0m 2ms/step - accuracy: 0.5208 - loss: 1.1099 - val_accuracy: 0.7235 - val_loss: 0.9579\n",
      "Epoch 3/50\n",
      "\u001b[1m73/73\u001b[0m \u001b[32m━━━━━━━━━━━━━━━━━━━━\u001b[0m\u001b[37m\u001b[0m \u001b[1m0s\u001b[0m 2ms/step - accuracy: 0.5631 - loss: 1.0351 - val_accuracy: 0.7304 - val_loss: 0.8957\n",
      "Epoch 4/50\n",
      "\u001b[1m73/73\u001b[0m \u001b[32m━━━━━━━━━━━━━━━━━━━━\u001b[0m\u001b[37m\u001b[0m \u001b[1m0s\u001b[0m 2ms/step - accuracy: 0.6049 - loss: 1.0336 - val_accuracy: 0.7406 - val_loss: 0.8476\n",
      "Epoch 5/50\n",
      "\u001b[1m73/73\u001b[0m \u001b[32m━━━━━━━━━━━━━━━━━━━━\u001b[0m\u001b[37m\u001b[0m \u001b[1m0s\u001b[0m 2ms/step - accuracy: 0.6188 - loss: 0.9670 - val_accuracy: 0.7201 - val_loss: 0.8206\n",
      "Epoch 6/50\n",
      "\u001b[1m73/73\u001b[0m \u001b[32m━━━━━━━━━━━━━━━━━━━━\u001b[0m\u001b[37m\u001b[0m \u001b[1m0s\u001b[0m 2ms/step - accuracy: 0.6659 - loss: 0.9276 - val_accuracy: 0.7406 - val_loss: 0.7899\n",
      "Epoch 7/50\n",
      "\u001b[1m73/73\u001b[0m \u001b[32m━━━━━━━━━━━━━━━━━━━━\u001b[0m\u001b[37m\u001b[0m \u001b[1m0s\u001b[0m 2ms/step - accuracy: 0.6756 - loss: 0.9044 - val_accuracy: 0.7611 - val_loss: 0.7618\n",
      "Epoch 8/50\n",
      "\u001b[1m73/73\u001b[0m \u001b[32m━━━━━━━━━━━━━━━━━━━━\u001b[0m\u001b[37m\u001b[0m \u001b[1m0s\u001b[0m 2ms/step - accuracy: 0.6772 - loss: 0.8410 - val_accuracy: 0.7645 - val_loss: 0.7474\n",
      "Epoch 9/50\n",
      "\u001b[1m73/73\u001b[0m \u001b[32m━━━━━━━━━━━━━━━━━━━━\u001b[0m\u001b[37m\u001b[0m \u001b[1m0s\u001b[0m 2ms/step - accuracy: 0.7043 - loss: 0.8404 - val_accuracy: 0.7747 - val_loss: 0.7260\n",
      "Epoch 10/50\n",
      "\u001b[1m73/73\u001b[0m \u001b[32m━━━━━━━━━━━━━━━━━━━━\u001b[0m\u001b[37m\u001b[0m \u001b[1m0s\u001b[0m 2ms/step - accuracy: 0.7016 - loss: 0.8105 - val_accuracy: 0.7952 - val_loss: 0.7082\n",
      "Epoch 11/50\n",
      "\u001b[1m73/73\u001b[0m \u001b[32m━━━━━━━━━━━━━━━━━━━━\u001b[0m\u001b[37m\u001b[0m \u001b[1m0s\u001b[0m 2ms/step - accuracy: 0.7231 - loss: 0.8141 - val_accuracy: 0.8191 - val_loss: 0.6893\n",
      "Epoch 12/50\n",
      "\u001b[1m73/73\u001b[0m \u001b[32m━━━━━━━━━━━━━━━━━━━━\u001b[0m\u001b[37m\u001b[0m \u001b[1m0s\u001b[0m 2ms/step - accuracy: 0.7635 - loss: 0.7416 - val_accuracy: 0.8328 - val_loss: 0.6756\n",
      "Epoch 13/50\n",
      "\u001b[1m73/73\u001b[0m \u001b[32m━━━━━━━━━━━━━━━━━━━━\u001b[0m\u001b[37m\u001b[0m \u001b[1m0s\u001b[0m 2ms/step - accuracy: 0.7559 - loss: 0.7686 - val_accuracy: 0.8328 - val_loss: 0.6644\n",
      "Epoch 14/50\n",
      "\u001b[1m73/73\u001b[0m \u001b[32m━━━━━━━━━━━━━━━━━━━━\u001b[0m\u001b[37m\u001b[0m \u001b[1m0s\u001b[0m 2ms/step - accuracy: 0.7455 - loss: 0.7547 - val_accuracy: 0.8089 - val_loss: 0.6623\n",
      "Epoch 15/50\n",
      "\u001b[1m73/73\u001b[0m \u001b[32m━━━━━━━━━━━━━━━━━━━━\u001b[0m\u001b[37m\u001b[0m \u001b[1m0s\u001b[0m 2ms/step - accuracy: 0.7444 - loss: 0.7643 - val_accuracy: 0.8157 - val_loss: 0.6542\n",
      "Epoch 16/50\n",
      "\u001b[1m73/73\u001b[0m \u001b[32m━━━━━━━━━━━━━━━━━━━━\u001b[0m\u001b[37m\u001b[0m \u001b[1m0s\u001b[0m 2ms/step - accuracy: 0.7516 - loss: 0.7457 - val_accuracy: 0.7952 - val_loss: 0.6557\n",
      "Epoch 17/50\n",
      "\u001b[1m73/73\u001b[0m \u001b[32m━━━━━━━━━━━━━━━━━━━━\u001b[0m\u001b[37m\u001b[0m \u001b[1m0s\u001b[0m 2ms/step - accuracy: 0.7428 - loss: 0.7664 - val_accuracy: 0.8123 - val_loss: 0.6283\n",
      "Epoch 18/50\n",
      "\u001b[1m73/73\u001b[0m \u001b[32m━━━━━━━━━━━━━━━━━━━━\u001b[0m\u001b[37m\u001b[0m \u001b[1m0s\u001b[0m 2ms/step - accuracy: 0.7675 - loss: 0.7159 - val_accuracy: 0.8225 - val_loss: 0.6226\n",
      "Epoch 19/50\n",
      "\u001b[1m73/73\u001b[0m \u001b[32m━━━━━━━━━━━━━━━━━━━━\u001b[0m\u001b[37m\u001b[0m \u001b[1m0s\u001b[0m 2ms/step - accuracy: 0.7470 - loss: 0.7311 - val_accuracy: 0.8191 - val_loss: 0.6218\n",
      "Epoch 20/50\n",
      "\u001b[1m73/73\u001b[0m \u001b[32m━━━━━━━━━━━━━━━━━━━━\u001b[0m\u001b[37m\u001b[0m \u001b[1m0s\u001b[0m 2ms/step - accuracy: 0.7580 - loss: 0.7244 - val_accuracy: 0.8259 - val_loss: 0.6020\n",
      "Epoch 21/50\n",
      "\u001b[1m73/73\u001b[0m \u001b[32m━━━━━━━━━━━━━━━━━━━━\u001b[0m\u001b[37m\u001b[0m \u001b[1m0s\u001b[0m 2ms/step - accuracy: 0.7403 - loss: 0.7342 - val_accuracy: 0.8259 - val_loss: 0.6000\n",
      "Epoch 22/50\n",
      "\u001b[1m73/73\u001b[0m \u001b[32m━━━━━━━━━━━━━━━━━━━━\u001b[0m\u001b[37m\u001b[0m \u001b[1m0s\u001b[0m 2ms/step - accuracy: 0.7889 - loss: 0.6489 - val_accuracy: 0.8328 - val_loss: 0.5941\n",
      "Epoch 23/50\n",
      "\u001b[1m73/73\u001b[0m \u001b[32m━━━━━━━━━━━━━━━━━━━━\u001b[0m\u001b[37m\u001b[0m \u001b[1m0s\u001b[0m 2ms/step - accuracy: 0.7804 - loss: 0.6589 - val_accuracy: 0.8259 - val_loss: 0.5858\n",
      "Epoch 24/50\n",
      "\u001b[1m73/73\u001b[0m \u001b[32m━━━━━━━━━━━━━━━━━━━━\u001b[0m\u001b[37m\u001b[0m \u001b[1m0s\u001b[0m 2ms/step - accuracy: 0.7502 - loss: 0.7009 - val_accuracy: 0.8294 - val_loss: 0.5797\n",
      "Epoch 25/50\n",
      "\u001b[1m73/73\u001b[0m \u001b[32m━━━━━━━━━━━━━━━━━━━━\u001b[0m\u001b[37m\u001b[0m \u001b[1m0s\u001b[0m 2ms/step - accuracy: 0.7520 - loss: 0.7225 - val_accuracy: 0.8294 - val_loss: 0.5750\n",
      "Epoch 26/50\n",
      "\u001b[1m73/73\u001b[0m \u001b[32m━━━━━━━━━━━━━━━━━━━━\u001b[0m\u001b[37m\u001b[0m \u001b[1m0s\u001b[0m 2ms/step - accuracy: 0.7685 - loss: 0.6545 - val_accuracy: 0.8328 - val_loss: 0.5798\n",
      "Epoch 27/50\n",
      "\u001b[1m73/73\u001b[0m \u001b[32m━━━━━━━━━━━━━━━━━━━━\u001b[0m\u001b[37m\u001b[0m \u001b[1m0s\u001b[0m 2ms/step - accuracy: 0.7682 - loss: 0.6885 - val_accuracy: 0.8328 - val_loss: 0.5663\n",
      "Epoch 28/50\n",
      "\u001b[1m73/73\u001b[0m \u001b[32m━━━━━━━━━━━━━━━━━━━━\u001b[0m\u001b[37m\u001b[0m \u001b[1m0s\u001b[0m 2ms/step - accuracy: 0.7486 - loss: 0.6951 - val_accuracy: 0.8259 - val_loss: 0.5729\n",
      "Epoch 29/50\n",
      "\u001b[1m73/73\u001b[0m \u001b[32m━━━━━━━━━━━━━━━━━━━━\u001b[0m\u001b[37m\u001b[0m \u001b[1m0s\u001b[0m 2ms/step - accuracy: 0.7789 - loss: 0.6973 - val_accuracy: 0.8362 - val_loss: 0.5691\n",
      "Epoch 30/50\n",
      "\u001b[1m73/73\u001b[0m \u001b[32m━━━━━━━━━━━━━━━━━━━━\u001b[0m\u001b[37m\u001b[0m \u001b[1m0s\u001b[0m 2ms/step - accuracy: 0.7516 - loss: 0.7100 - val_accuracy: 0.8328 - val_loss: 0.5635\n",
      "Epoch 31/50\n",
      "\u001b[1m73/73\u001b[0m \u001b[32m━━━━━━━━━━━━━━━━━━━━\u001b[0m\u001b[37m\u001b[0m \u001b[1m0s\u001b[0m 2ms/step - accuracy: 0.7727 - loss: 0.6852 - val_accuracy: 0.8362 - val_loss: 0.5573\n",
      "Epoch 32/50\n",
      "\u001b[1m73/73\u001b[0m \u001b[32m━━━━━━━━━━━━━━━━━━━━\u001b[0m\u001b[37m\u001b[0m \u001b[1m0s\u001b[0m 2ms/step - accuracy: 0.7669 - loss: 0.6638 - val_accuracy: 0.8362 - val_loss: 0.5531\n",
      "Epoch 33/50\n",
      "\u001b[1m73/73\u001b[0m \u001b[32m━━━━━━━━━━━━━━━━━━━━\u001b[0m\u001b[37m\u001b[0m \u001b[1m0s\u001b[0m 2ms/step - accuracy: 0.7854 - loss: 0.6337 - val_accuracy: 0.8294 - val_loss: 0.5500\n",
      "Epoch 34/50\n",
      "\u001b[1m73/73\u001b[0m \u001b[32m━━━━━━━━━━━━━━━━━━━━\u001b[0m\u001b[37m\u001b[0m \u001b[1m0s\u001b[0m 2ms/step - accuracy: 0.8005 - loss: 0.6007 - val_accuracy: 0.8362 - val_loss: 0.5491\n",
      "Epoch 35/50\n",
      "\u001b[1m73/73\u001b[0m \u001b[32m━━━━━━━━━━━━━━━━━━━━\u001b[0m\u001b[37m\u001b[0m \u001b[1m0s\u001b[0m 2ms/step - accuracy: 0.7768 - loss: 0.6832 - val_accuracy: 0.8328 - val_loss: 0.5383\n",
      "Epoch 36/50\n",
      "\u001b[1m73/73\u001b[0m \u001b[32m━━━━━━━━━━━━━━━━━━━━\u001b[0m\u001b[37m\u001b[0m \u001b[1m0s\u001b[0m 2ms/step - accuracy: 0.7883 - loss: 0.6306 - val_accuracy: 0.8430 - val_loss: 0.5397\n",
      "Epoch 37/50\n",
      "\u001b[1m73/73\u001b[0m \u001b[32m━━━━━━━━━━━━━━━━━━━━\u001b[0m\u001b[37m\u001b[0m \u001b[1m0s\u001b[0m 2ms/step - accuracy: 0.7767 - loss: 0.6651 - val_accuracy: 0.8362 - val_loss: 0.5428\n",
      "Epoch 38/50\n",
      "\u001b[1m73/73\u001b[0m \u001b[32m━━━━━━━━━━━━━━━━━━━━\u001b[0m\u001b[37m\u001b[0m \u001b[1m0s\u001b[0m 2ms/step - accuracy: 0.7898 - loss: 0.6073 - val_accuracy: 0.8396 - val_loss: 0.5394\n",
      "Epoch 39/50\n",
      "\u001b[1m73/73\u001b[0m \u001b[32m━━━━━━━━━━━━━━━━━━━━\u001b[0m\u001b[37m\u001b[0m \u001b[1m0s\u001b[0m 2ms/step - accuracy: 0.7901 - loss: 0.6328 - val_accuracy: 0.8430 - val_loss: 0.5367\n",
      "Epoch 40/50\n",
      "\u001b[1m73/73\u001b[0m \u001b[32m━━━━━━━━━━━━━━━━━━━━\u001b[0m\u001b[37m\u001b[0m \u001b[1m0s\u001b[0m 2ms/step - accuracy: 0.7893 - loss: 0.6321 - val_accuracy: 0.8430 - val_loss: 0.5252\n",
      "Epoch 41/50\n",
      "\u001b[1m73/73\u001b[0m \u001b[32m━━━━━━━━━━━━━━━━━━━━\u001b[0m\u001b[37m\u001b[0m \u001b[1m0s\u001b[0m 2ms/step - accuracy: 0.7855 - loss: 0.6383 - val_accuracy: 0.8225 - val_loss: 0.5382\n",
      "Epoch 42/50\n",
      "\u001b[1m73/73\u001b[0m \u001b[32m━━━━━━━━━━━━━━━━━━━━\u001b[0m\u001b[37m\u001b[0m \u001b[1m0s\u001b[0m 2ms/step - accuracy: 0.7892 - loss: 0.6040 - val_accuracy: 0.8259 - val_loss: 0.5399\n",
      "Epoch 43/50\n",
      "\u001b[1m73/73\u001b[0m \u001b[32m━━━━━━━━━━━━━━━━━━━━\u001b[0m\u001b[37m\u001b[0m \u001b[1m0s\u001b[0m 2ms/step - accuracy: 0.7858 - loss: 0.6104 - val_accuracy: 0.8464 - val_loss: 0.5200\n",
      "Epoch 44/50\n",
      "\u001b[1m73/73\u001b[0m \u001b[32m━━━━━━━━━━━━━━━━━━━━\u001b[0m\u001b[37m\u001b[0m \u001b[1m0s\u001b[0m 2ms/step - accuracy: 0.7977 - loss: 0.6158 - val_accuracy: 0.8362 - val_loss: 0.5229\n",
      "Epoch 45/50\n",
      "\u001b[1m73/73\u001b[0m \u001b[32m━━━━━━━━━━━━━━━━━━━━\u001b[0m\u001b[37m\u001b[0m \u001b[1m0s\u001b[0m 2ms/step - accuracy: 0.7902 - loss: 0.6141 - val_accuracy: 0.8498 - val_loss: 0.5165\n",
      "Epoch 46/50\n",
      "\u001b[1m73/73\u001b[0m \u001b[32m━━━━━━━━━━━━━━━━━━━━\u001b[0m\u001b[37m\u001b[0m \u001b[1m0s\u001b[0m 2ms/step - accuracy: 0.8167 - loss: 0.5685 - val_accuracy: 0.8464 - val_loss: 0.5121\n",
      "Epoch 47/50\n",
      "\u001b[1m73/73\u001b[0m \u001b[32m━━━━━━━━━━━━━━━━━━━━\u001b[0m\u001b[37m\u001b[0m \u001b[1m0s\u001b[0m 2ms/step - accuracy: 0.8046 - loss: 0.5795 - val_accuracy: 0.8396 - val_loss: 0.5169\n",
      "Epoch 48/50\n",
      "\u001b[1m73/73\u001b[0m \u001b[32m━━━━━━━━━━━━━━━━━━━━\u001b[0m\u001b[37m\u001b[0m \u001b[1m0s\u001b[0m 2ms/step - accuracy: 0.8069 - loss: 0.5892 - val_accuracy: 0.8464 - val_loss: 0.5098\n",
      "Epoch 49/50\n",
      "\u001b[1m73/73\u001b[0m \u001b[32m━━━━━━━━━━━━━━━━━━━━\u001b[0m\u001b[37m\u001b[0m \u001b[1m0s\u001b[0m 2ms/step - accuracy: 0.7987 - loss: 0.5925 - val_accuracy: 0.8532 - val_loss: 0.5043\n",
      "Epoch 50/50\n",
      "\u001b[1m73/73\u001b[0m \u001b[32m━━━━━━━━━━━━━━━━━━━━\u001b[0m\u001b[37m\u001b[0m \u001b[1m0s\u001b[0m 2ms/step - accuracy: 0.7944 - loss: 0.5908 - val_accuracy: 0.8464 - val_loss: 0.5104\n"
     ]
    }
   ],
   "source": [
    "# Train\n",
    "history = model.fit(X_train, y_train, epochs=50, batch_size=16, validation_data=(X_test, y_test), verbose=1)"
   ]
  },
  {
   "cell_type": "markdown",
   "id": "f82843ff-e503-4b09-9258-d9b9d02815f0",
   "metadata": {},
   "source": [
    "## Step 9: Metrics\n",
    "The model's performance is evaluated on the test set. We calculate:\n",
    "- **Loss**: Quantifies the error in predictions.\n",
    "- **Accuracy**: Measures the percentage of correct predictions.\n",
    "\n",
    "---"
   ]
  },
  {
   "cell_type": "code",
   "execution_count": 43,
   "id": "e6b21f86-921e-4882-8035-f5968455ab37",
   "metadata": {},
   "outputs": [
    {
     "name": "stdout",
     "output_type": "stream",
     "text": [
      "Test Loss: 0.5104\n",
      "Test Accuracy: 0.8464\n"
     ]
    }
   ],
   "source": [
    "# Metrics\n",
    "test_loss, test_accuracy = model.evaluate(X_test, y_test, verbose=0)\n",
    "print(f\"Test Loss: {test_loss:.4f}\")\n",
    "print(f\"Test Accuracy: {test_accuracy:.4f}\")"
   ]
  },
  {
   "cell_type": "markdown",
   "id": "e3fff8df-3f04-4822-8488-400f40cb4d82",
   "metadata": {},
   "source": [
    "## Accuracy Plot\n",
    "---"
   ]
  },
  {
   "cell_type": "code",
   "execution_count": 44,
   "id": "8633b283-8ddc-4e22-b562-ce44a5189efc",
   "metadata": {},
   "outputs": [
    {
     "data": {
      "image/png": "[encoded data removed]",
      "text/plain": [
       "<Figure size 640x480 with 1 Axes>"
      ]
     },
     "metadata": {},
     "output_type": "display_data"
    }
   ],
   "source": [
    "# Plot Accuracy\n",
    "plt.plot(history.history['accuracy'], label='Train Accuracy')\n",
    "plt.plot(history.history['val_accuracy'], label='Validation Accuracy')\n",
    "plt.title('Model Accuracy')\n",
    "plt.xlabel('Epochs')\n",
    "plt.ylabel('Accuracy')\n",
    "plt.legend()\n",
    "plt.show()"
   ]
  },
  {
   "cell_type": "markdown",
   "id": "1ecf04f5-c646-45de-a6f8-9479c4057668",
   "metadata": {},
   "source": [
    "## Loss Plot\n",
    "---"
   ]
  },
  {
   "cell_type": "code",
   "execution_count": 45,
   "id": "defd3b12-9071-4d37-b594-bbcecce36f6b",
   "metadata": {},
   "outputs": [
    {
     "data": {
      "image/png": "[encoded data removed]",
      "text/plain": [
       "<Figure size 640x480 with 1 Axes>"
      ]
     },
     "metadata": {},
     "output_type": "display_data"
    }
   ],
   "source": [
    "# Plot Loss\n",
    "plt.plot(history.history['loss'], label='Train Loss')\n",
    "plt.plot(history.history['val_loss'], label='Validation Loss')\n",
    "plt.title('Model Loss')\n",
    "plt.xlabel('Epochs')\n",
    "plt.ylabel('Loss')\n",
    "plt.legend()\n",
    "plt.show()"
   ]
  },
  {
   "cell_type": "markdown",
   "id": "c9820e92-0b7d-4d7f-ab0d-13552f66d07e",
   "metadata": {},
   "source": [
    "## Verification using row 15 from the dataset\r\n",
    "*   `precipitation` = 2.5\r\n",
    "*   `temp_max` = 1.7\r\n",
    "*   `temp_min` = -2.8\r\n",
    "*   `wind` = 5.0\r\n",
    "*   `weather` = 3 (Snow)\n",
    "---"
   ]
  },
  {
   "cell_type": "code",
   "execution_count": 52,
   "id": "9602d3b5-4868-4ada-9471-7b71ab771ad9",
   "metadata": {},
   "outputs": [
    {
     "name": "stdout",
     "output_type": "stream",
     "text": [
      "\u001b[1m1/1\u001b[0m \u001b[32m━━━━━━━━━━━━━━━━━━━━\u001b[0m\u001b[37m\u001b[0m \u001b[1m0s\u001b[0m 31ms/step\n",
      "The weather is: snow\n"
     ]
    }
   ],
   "source": [
    "input_data = pd.DataFrame([[2.5, 1.7, -2.8, 5.0]], columns=['precipitation', 'temp_max', 'temp_min', 'wind'])\n",
    "# Preprocess the input data\n",
    "input_scaled = scaler.transform(input_data)  # Using same scaler that we fitted on the training data\n",
    "\n",
    "# Predic probabilities\n",
    "predicted_probabilities = model.predict(input_scaled)\n",
    "\n",
    "# Get the class with the highest probability\n",
    "predicted_class = np.argmax(predicted_probabilities, axis=1)  # Returns the index of class with the highest probability\n",
    "\n",
    "# Map the class index to the weather category\n",
    "predicted_weather = label_encoder.inverse_transform(predicted_class)  # Convert the encoded label to original string labels\n",
    "\n",
    "# Result\n",
    "print(\"The weather is:\", predicted_weather[0])"
   ]
  },
  {
   "cell_type": "markdown",
   "id": "6b0bf41c-6c2c-4c27-a810-97408b757e05",
   "metadata": {},
   "source": [
    "## Potential Next Steps\n",
    "- **Hyperparameter Tuning**: Experiment with the number of layers, neurons, learning rate, etc.\n",
    "- **Feature Engineering**: Add new features, such as temporal features derived from the `date` column.\n",
    "- **Class Imbalance Handling**: Address imbalanced datasets using oversampling, undersampling, or class weights.\n",
    "- **Add confusion matrix metric**\n",
    "- **Add Precision Score Metric**\n",
    "- **Add Recall Score Metric**\n",
    "- **Add F1 Score Metric**\n",
    "- **Look into RNN (Recurrent Neural Network):** Typically used on time series problems such as weather forecasting\n",
    "- Ex: predicting weater based on last week of weather,\n",
    "- Seattle dataset in this implementation is consisted of individual and indepedent weather observations for a single day, RNNs are unecessary in this case. We can attempt to use RNN by Transforming the dataset into time series format, by extracting the data and creating a sequence for RNN to train on.\n",
    "- Current model is a  FFNN (Feed-Forward)\n",
    "---"
   ]
  },
  {
   "cell_type": "code",
   "execution_count": null,
   "id": "98d1b6ce-71b7-42c2-a076-6705459c9b0a",
   "metadata": {},
   "outputs": [],
   "source": []
  }
 ],
 "metadata": {
  "kernelspec": {
   "display_name": "Python 3 (ipykernel)",
   "language": "python",
   "name": "python3"
  },
  "language_info": {
   "codemirror_mode": {
    "name": "ipython",
    "version": 3
   },
   "file_extension": ".py",
   "mimetype": "text/x-python",
   "name": "python",
   "nbconvert_exporter": "python",
   "pygments_lexer": "ipython3",
   "version": "3.12.4"
  }
 },
 "nbformat": 4,
 "nbformat_minor": 5
}
